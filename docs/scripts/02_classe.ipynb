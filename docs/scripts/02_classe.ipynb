{
 "cells": [
  {
   "cell_type": "markdown",
   "id": "b4b3513a6827b65b",
   "metadata": {},
   "source": [
    "<br>\n",
    "\n",
    "# INCRA\n",
    "\n",
    "_Scripts_ para demonstrar utilização da classe `INCRA`."
   ]
  },
  {
   "cell_type": "code",
   "execution_count": 1,
   "id": "c3aad037",
   "metadata": {
    "jupyter": {
     "is_executing": true
    }
   },
   "outputs": [],
   "source": [
    "import time\n",
    "\n",
    "from paths import input_path\n",
    "\n",
    "from incra import INCRA"
   ]
  },
  {
   "cell_type": "markdown",
   "id": "23df38b0",
   "metadata": {},
   "source": [
    "<br>\n",
    "\n",
    "Os _layers_ possíveis de serem obtidos são:\n",
    "\n",
    "- Imóvel certificado SIGEF Total\n",
    "- Imóvel certificado SIGEF Público\n",
    "- Imóvel certificado SIGEF Privado\n",
    "- Imóvel certificado SNCI Total\n",
    "- Imóvel certificado SNCI Público\n",
    "- Imóvel certificado SNCI Privado\n",
    "- Projetos de Assentamento Total\n",
    "- Projetos de Assentamento Federal\n",
    "- Projetos de Assentamento Reconhecimento\n",
    "- Áreas de Quilombolas\n"
   ]
  },
  {
   "cell_type": "code",
   "execution_count": 2,
   "id": "80a19fae",
   "metadata": {},
   "outputs": [],
   "source": [
    "incra = INCRA(layer='Imóvel certificado SIGEF Privado', uf='RJ')"
   ]
  },
  {
   "cell_type": "markdown",
   "id": "42cf84a9",
   "metadata": {},
   "source": [
    "<br>\n",
    "\n",
    "-----\n",
    "\n",
    "## Parâmetros"
   ]
  },
  {
   "cell_type": "code",
   "execution_count": 3,
   "id": "0c39056d",
   "metadata": {},
   "outputs": [
    {
     "data": {
      "text/plain": [
       "'Sigef Privado.zip'"
      ]
     },
     "execution_count": 3,
     "metadata": {},
     "output_type": "execute_result"
    }
   ],
   "source": [
    "incra._filename"
   ]
  },
  {
   "cell_type": "code",
   "execution_count": 4,
   "id": "f93e782f",
   "metadata": {},
   "outputs": [
    {
     "data": {
      "text/plain": [
       "'Sigef Privado_RJ.zip'"
      ]
     },
     "execution_count": 4,
     "metadata": {},
     "output_type": "execute_result"
    }
   ],
   "source": [
    "incra._filename_to_download"
   ]
  },
  {
   "cell_type": "code",
   "execution_count": 5,
   "id": "ecc84e39",
   "metadata": {},
   "outputs": [
    {
     "data": {
      "text/plain": [
       "'sigef_pri'"
      ]
     },
     "execution_count": 5,
     "metadata": {},
     "output_type": "execute_result"
    }
   ],
   "source": [
    "incra._dropdown"
   ]
  },
  {
   "cell_type": "code",
   "execution_count": 6,
   "id": "895d10a7",
   "metadata": {},
   "outputs": [
    {
     "data": {
      "text/plain": [
       "'RJ'"
      ]
     },
     "execution_count": 6,
     "metadata": {},
     "output_type": "execute_result"
    }
   ],
   "source": [
    "incra._uf_to_update"
   ]
  },
  {
   "cell_type": "markdown",
   "id": "5b47f200fc8bd71b",
   "metadata": {},
   "source": [
    "<br>\n",
    "\n",
    "---\n",
    "\n",
    "## _Download_\n",
    "\n",
    "Faz o _download_ dos dados na pasta escolhida.\n"
   ]
  },
  {
   "cell_type": "code",
   "execution_count": 7,
   "id": "57a2c2fc",
   "metadata": {},
   "outputs": [],
   "source": [
    "incra.update()\n"
   ]
  },
  {
   "cell_type": "markdown",
   "id": "3d471382",
   "metadata": {},
   "source": [
    "Em algum momento pensei que se fizesse a requisição para atualização e aguardasse, ele obteria a versão mais recente.\n",
    "\n",
    "Já entendi que é necessário fazer a requisição, mas não é necessário aguardar (`time.sleep(60)`).\n"
   ]
  },
  {
   "cell_type": "code",
   "execution_count": 8,
   "id": "9cc833b9",
   "metadata": {},
   "outputs": [],
   "source": [
    "# time.sleep(60)"
   ]
  },
  {
   "cell_type": "code",
   "execution_count": 9,
   "id": "77e0f634",
   "metadata": {},
   "outputs": [
    {
     "name": "stdout",
     "output_type": "stream",
     "text": [
      "2025-10-13 16:03:36\n"
     ]
    }
   ],
   "source": [
    "incra.download(output_path=input_path)"
   ]
  },
  {
   "cell_type": "markdown",
   "id": "c0d5e6b5",
   "metadata": {},
   "source": [
    "<br>\n",
    "\n",
    "-------\n",
    "\n",
    "## Geodataframe"
   ]
  },
  {
   "cell_type": "code",
   "execution_count": 10,
   "id": "370e3af7",
   "metadata": {},
   "outputs": [
    {
     "name": "stdout",
     "output_type": "stream",
     "text": [
      "<class 'geopandas.geodataframe.GeoDataFrame'>\n",
      "RangeIndex: 11821 entries, 0 to 11820\n",
      "Data columns (total 14 columns):\n",
      " #   Column      Non-Null Count  Dtype         \n",
      "---  ------      --------------  -----         \n",
      " 0   parcela_co  11821 non-null  object        \n",
      " 1   rt          11821 non-null  object        \n",
      " 2   art         11821 non-null  object        \n",
      " 3   situacao_i  11821 non-null  object        \n",
      " 4   codigo_imo  11821 non-null  object        \n",
      " 5   data_submi  11821 non-null  datetime64[ms]\n",
      " 6   data_aprov  11821 non-null  datetime64[ms]\n",
      " 7   status      11821 non-null  object        \n",
      " 8   nome_area   11821 non-null  object        \n",
      " 9   registro_m  11590 non-null  object        \n",
      " 10  registro_d  3111 non-null   datetime64[ms]\n",
      " 11  municipio_  11821 non-null  int32         \n",
      " 12  uf_id       11821 non-null  int32         \n",
      " 13  geometry    11821 non-null  geometry      \n",
      "dtypes: datetime64[ms](3), geometry(1), int32(2), object(8)\n",
      "memory usage: 1.2+ MB\n"
     ]
    },
    {
     "data": {
      "text/html": [
       "<div>\n",
       "<style scoped>\n",
       "    .dataframe tbody tr th:only-of-type {\n",
       "        vertical-align: middle;\n",
       "    }\n",
       "\n",
       "    .dataframe tbody tr th {\n",
       "        vertical-align: top;\n",
       "    }\n",
       "\n",
       "    .dataframe thead th {\n",
       "        text-align: right;\n",
       "    }\n",
       "</style>\n",
       "<table border=\"1\" class=\"dataframe\">\n",
       "  <thead>\n",
       "    <tr style=\"text-align: right;\">\n",
       "      <th></th>\n",
       "      <th>parcela_co</th>\n",
       "      <th>rt</th>\n",
       "      <th>art</th>\n",
       "      <th>situacao_i</th>\n",
       "      <th>codigo_imo</th>\n",
       "      <th>data_submi</th>\n",
       "      <th>data_aprov</th>\n",
       "      <th>status</th>\n",
       "      <th>nome_area</th>\n",
       "      <th>registro_m</th>\n",
       "      <th>registro_d</th>\n",
       "      <th>municipio_</th>\n",
       "      <th>uf_id</th>\n",
       "      <th>geometry</th>\n",
       "    </tr>\n",
       "  </thead>\n",
       "  <tbody>\n",
       "    <tr>\n",
       "      <th>0</th>\n",
       "      <td>6d951ab5-5ad1-4742-9e24-63fd1e22ac97</td>\n",
       "      <td>AU7</td>\n",
       "      <td>OL00006405-RJ</td>\n",
       "      <td>REGISTRADA</td>\n",
       "      <td>5130328429070</td>\n",
       "      <td>2014-08-14</td>\n",
       "      <td>2014-08-14</td>\n",
       "      <td>CERTIFICADA</td>\n",
       "      <td>Fazenda Boa Fé - Parte 2</td>\n",
       "      <td>1429</td>\n",
       "      <td>NaT</td>\n",
       "      <td>3302403</td>\n",
       "      <td>33</td>\n",
       "      <td>POLYGON Z ((-41.91483 -22.39164 11.5, -41.9146...</td>\n",
       "    </tr>\n",
       "    <tr>\n",
       "      <th>1</th>\n",
       "      <td>6e48d34d-8c4e-45ab-81e7-12df69fee8c0</td>\n",
       "      <td>GK9</td>\n",
       "      <td>OL00007877-RJ</td>\n",
       "      <td>REGISTRADA</td>\n",
       "      <td>5170460020701</td>\n",
       "      <td>2014-08-15</td>\n",
       "      <td>2014-08-15</td>\n",
       "      <td>CERTIFICADA</td>\n",
       "      <td>FAZENDA RECREIO - Gleba A</td>\n",
       "      <td>359</td>\n",
       "      <td>NaT</td>\n",
       "      <td>3304508</td>\n",
       "      <td>33</td>\n",
       "      <td>POLYGON Z ((-43.44358 -22.08623 602.24, -43.44...</td>\n",
       "    </tr>\n",
       "  </tbody>\n",
       "</table>\n",
       "</div>"
      ],
      "text/plain": [
       "                             parcela_co   rt            art  situacao_i  \\\n",
       "0  6d951ab5-5ad1-4742-9e24-63fd1e22ac97  AU7  OL00006405-RJ  REGISTRADA   \n",
       "1  6e48d34d-8c4e-45ab-81e7-12df69fee8c0  GK9  OL00007877-RJ  REGISTRADA   \n",
       "\n",
       "      codigo_imo data_submi data_aprov       status  \\\n",
       "0  5130328429070 2014-08-14 2014-08-14  CERTIFICADA   \n",
       "1  5170460020701 2014-08-15 2014-08-15  CERTIFICADA   \n",
       "\n",
       "                   nome_area registro_m registro_d  municipio_  uf_id  \\\n",
       "0   Fazenda Boa Fé - Parte 2       1429        NaT     3302403     33   \n",
       "1  FAZENDA RECREIO - Gleba A        359        NaT     3304508     33   \n",
       "\n",
       "                                            geometry  \n",
       "0  POLYGON Z ((-41.91483 -22.39164 11.5, -41.9146...  \n",
       "1  POLYGON Z ((-43.44358 -22.08623 602.24, -43.44...  "
      ]
     },
     "execution_count": 10,
     "metadata": {},
     "output_type": "execute_result"
    }
   ],
   "source": [
    "# Convert to Geodataframe\n",
    "gdf_incra = incra.to_geodtataframe()\n",
    "\n",
    "# Results\n",
    "gdf_incra.info()\n",
    "gdf_incra.head(2)"
   ]
  },
  {
   "cell_type": "code",
   "execution_count": null,
   "id": "9e2b0973",
   "metadata": {},
   "outputs": [],
   "source": []
  }
 ],
 "metadata": {
  "kernelspec": {
   "display_name": "incra",
   "language": "python",
   "name": "python3"
  },
  "language_info": {
   "codemirror_mode": {
    "name": "ipython",
    "version": 3
   },
   "file_extension": ".py",
   "mimetype": "text/x-python",
   "name": "python",
   "nbconvert_exporter": "python",
   "pygments_lexer": "ipython3",
   "version": "3.11.12"
  }
 },
 "nbformat": 4,
 "nbformat_minor": 5
}
