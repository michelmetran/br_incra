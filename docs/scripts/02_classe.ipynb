{
 "cells": [
  {
   "cell_type": "markdown",
   "id": "b4b3513a6827b65b",
   "metadata": {},
   "source": [
    "<br>\n",
    "\n",
    "# INCRA\n",
    "\n",
    "_Scripts_ para demonstrar utilização da classe `INCRA`.\n"
   ]
  },
  {
   "cell_type": "code",
   "execution_count": null,
   "id": "c3aad037",
   "metadata": {
    "jupyter": {
     "is_executing": true
    }
   },
   "outputs": [],
   "source": [
    "import time\n",
    "\n",
    "from paths import input_path\n",
    "\n",
    "from incra import INCRA"
   ]
  },
  {
   "cell_type": "markdown",
   "id": "23df38b0",
   "metadata": {},
   "source": [
    "<br>\n",
    "\n",
    "Os _layers_ possíveis de serem obtidos são:\n",
    "\n",
    "- Imóvel certificado SIGEF Total\n",
    "- Imóvel certificado SIGEF Público\n",
    "- Imóvel certificado SIGEF Privado\n",
    "- Imóvel certificado SNCI Total\n",
    "- Imóvel certificado SNCI Público\n",
    "- Imóvel certificado SNCI Privado\n",
    "- Projetos de Assentamento Total\n",
    "- Projetos de Assentamento Federal\n",
    "- Projetos de Assentamento Reconhecimento\n",
    "- Áreas de Quilombolas\n"
   ]
  },
  {
   "cell_type": "code",
   "execution_count": null,
   "id": "80a19fae",
   "metadata": {},
   "outputs": [],
   "source": [
    "incra = INCRA(layer='Imóvel certificado SIGEF Privado', uf='CE')"
   ]
  },
  {
   "cell_type": "markdown",
   "id": "42cf84a9",
   "metadata": {},
   "source": [
    "<br>\n",
    "\n",
    "---\n",
    "\n",
    "## Parâmetros\n"
   ]
  },
  {
   "cell_type": "code",
   "execution_count": null,
   "id": "0c39056d",
   "metadata": {},
   "outputs": [],
   "source": [
    "incra._filename"
   ]
  },
  {
   "cell_type": "code",
   "execution_count": null,
   "id": "f93e782f",
   "metadata": {},
   "outputs": [],
   "source": [
    "incra._filename_to_download"
   ]
  },
  {
   "cell_type": "code",
   "execution_count": null,
   "id": "ecc84e39",
   "metadata": {},
   "outputs": [],
   "source": [
    "incra._dropdown"
   ]
  },
  {
   "cell_type": "code",
   "execution_count": null,
   "id": "895d10a7",
   "metadata": {},
   "outputs": [],
   "source": [
    "incra._uf_to_update"
   ]
  },
  {
   "cell_type": "markdown",
   "id": "5b47f200fc8bd71b",
   "metadata": {},
   "source": [
    "<br>\n",
    "\n",
    "---\n",
    "\n",
    "## _Download_\n",
    "\n",
    "Faz o _download_ dos dados na pasta escolhida.\n"
   ]
  },
  {
   "cell_type": "code",
   "execution_count": null,
   "id": "57a2c2fc",
   "metadata": {},
   "outputs": [],
   "source": [
    "incra.update()"
   ]
  },
  {
   "cell_type": "markdown",
   "id": "3d471382",
   "metadata": {},
   "source": [
    "Em algum momento pensei que se fizesse a requisição para atualização e aguardasse, ele obteria a versão mais recente.\n",
    "\n",
    "Já entendi que é necessário fazer a requisição, mas não é necessário aguardar (`time.sleep(60)`).\n"
   ]
  },
  {
   "cell_type": "code",
   "execution_count": null,
   "id": "9cc833b9",
   "metadata": {},
   "outputs": [],
   "source": [
    "# time.sleep(60)"
   ]
  },
  {
   "cell_type": "code",
   "execution_count": null,
   "id": "77e0f634",
   "metadata": {},
   "outputs": [],
   "source": [
    "incra.download(output_path=input_path)"
   ]
  },
  {
   "cell_type": "code",
   "execution_count": null,
   "id": "5e7d871b",
   "metadata": {},
   "outputs": [],
   "source": [
    "incra._url"
   ]
  },
  {
   "cell_type": "markdown",
   "id": "c0d5e6b5",
   "metadata": {},
   "source": [
    "<br>\n",
    "\n",
    "---\n",
    "\n",
    "## Geodataframe\n"
   ]
  },
  {
   "cell_type": "code",
   "execution_count": null,
   "id": "370e3af7",
   "metadata": {},
   "outputs": [],
   "source": [
    "# Convert to Geodataframe\n",
    "gdf_incra = incra.to_geodtataframe()\n",
    "\n",
    "# Results\n",
    "gdf_incra.info()\n",
    "gdf_incra.head(2)"
   ]
  }
 ],
 "metadata": {
  "kernelspec": {
   "display_name": "incra",
   "language": "python",
   "name": "python3"
  },
  "language_info": {
   "codemirror_mode": {
    "name": "ipython",
    "version": 3
   },
   "file_extension": ".py",
   "mimetype": "text/x-python",
   "name": "python",
   "nbconvert_exporter": "python",
   "pygments_lexer": "ipython3",
   "version": "3.11.12"
  }
 },
 "nbformat": 4,
 "nbformat_minor": 5
}
