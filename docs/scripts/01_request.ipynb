{
 "cells": [
  {
   "cell_type": "markdown",
   "id": "fe63d2d4",
   "metadata": {},
   "source": [
    "<br>\n",
    "\n",
    "# Requests\n",
    "\n",
    "Em 13.10.2025 retomei a ideia de obter os dados por meio de `requests`.\n",
    "\n",
    "<br>\n",
    "\n",
    "Michel Metran\\\n",
    "Data: XX.XX.2024\\\n",
    "Atualizado em: 13.10.2025\\\n"
   ]
  },
  {
   "cell_type": "code",
   "execution_count": null,
   "id": "b9729ce7",
   "metadata": {},
   "outputs": [],
   "source": [
    "#!pip3 install certifi --upgrade\n",
    "#!pip3 install geopandas==1.1.1"
   ]
  },
  {
   "cell_type": "code",
   "execution_count": null,
   "id": "8d07d13f",
   "metadata": {},
   "outputs": [],
   "source": [
    "from urllib.parse import quote, urljoin\n",
    "\n",
    "import geopandas as gpd\n",
    "import requests\n",
    "import urllib3\n",
    "from bs4 import BeautifulSoup\n",
    "from paths import input_path, output_path\n",
    "from urllib3.util import create_urllib3_context"
   ]
  },
  {
   "cell_type": "code",
   "execution_count": null,
   "id": "dde14539",
   "metadata": {},
   "outputs": [],
   "source": [
    "import ssl\n",
    "import urllib.request\n",
    "from urllib.parse import (\n",
    "    parse_qs,\n",
    "    parse_qsl,\n",
    "    quote_plus,\n",
    "    unquote,\n",
    "    urlencode,\n",
    "    urlparse,\n",
    "    urlsplit,\n",
    "    urlunparse,\n",
    "    urlunsplit,\n",
    ")\n",
    "\n",
    "import certifi\n",
    "import lxml\n",
    "from lxml import etree, html"
   ]
  },
  {
   "cell_type": "code",
   "execution_count": null,
   "id": "cfb7b5f2",
   "metadata": {},
   "outputs": [],
   "source": [
    "# import portaldatransparencia as pt"
   ]
  },
  {
   "cell_type": "markdown",
   "id": "e736d34b",
   "metadata": {},
   "source": [
    "<br>\n",
    "\n",
    "---\n",
    "\n",
    "## Funcionamento do INCRA\n",
    "\n",
    "O INCRA mantem uma interface bastante simples para seleção do _layer_ desejado no endereço\n",
    "\n",
    "- https://certificacao.incra.gov.br/csv_shp/export_shp.py\n"
   ]
  },
  {
   "cell_type": "markdown",
   "id": "b40804ce",
   "metadata": {},
   "source": [
    "<br>\n",
    "\n",
    "---\n",
    "\n",
    "## Certificados\n"
   ]
  },
  {
   "cell_type": "code",
   "execution_count": null,
   "id": "f3ff041a",
   "metadata": {},
   "outputs": [],
   "source": [
    "#certifi.where()"
   ]
  },
  {
   "cell_type": "code",
   "execution_count": null,
   "id": "30047679",
   "metadata": {},
   "outputs": [],
   "source": [
    "# # Create an SSL context with certifi's CA bundle\n",
    "# ssl_context = ssl.create_default_context(cafile=certifi.where())\n",
    "\n",
    "# # Create an SSL context that does not verify certificates\n",
    "# ssl_context = ssl._create_unverified_context()\n",
    "\n",
    "# ssl_context"
   ]
  },
  {
   "cell_type": "markdown",
   "id": "1f280423",
   "metadata": {},
   "source": [
    "<br>\n",
    "\n",
    "---\n",
    "\n",
    "## Requests\n",
    "\n",
    "É possível fazer a consulta com o `verify=False`. Mas, é bom evitar...\n"
   ]
  },
  {
   "cell_type": "code",
   "execution_count": null,
   "id": "0f6b9e3d",
   "metadata": {},
   "outputs": [],
   "source": [
    "url = 'https://certificacao.incra.gov.br/csv_shp/zip/Áreas%20de%20Quilombolas.zip'\n",
    "r = requests.get(url=url, verify=False)\n",
    "r"
   ]
  },
  {
   "cell_type": "markdown",
   "id": "359dcc31",
   "metadata": {},
   "source": [
    "<br>\n",
    "\n",
    "---\n",
    "\n",
    "## Funções\n",
    "\n",
    "Observei que o site do INCRA usa, ainda, TLS 1.2. O python \"reclama\" disso.\n"
   ]
  },
  {
   "cell_type": "code",
   "execution_count": null,
   "id": "77479634",
   "metadata": {},
   "outputs": [],
   "source": [
    "class CustomSSLContextHTTPAdapter(requests.adapters.HTTPAdapter):\n",
    "    def __init__(self, ssl_context=None, **kwargs) -> None:\n",
    "        self.ssl_context = ssl_context\n",
    "        super().__init__(**kwargs)\n",
    "\n",
    "    def init_poolmanager(\n",
    "        self, connections, maxsize, block=False, **kwargs\n",
    "    ) -> None:\n",
    "        self.poolmanager = urllib3.poolmanager.PoolManager(\n",
    "            num_pools=connections,\n",
    "            maxsize=maxsize,\n",
    "            block=block,\n",
    "            ssl_context=self.ssl_context,\n",
    "        )"
   ]
  },
  {
   "cell_type": "code",
   "execution_count": null,
   "id": "62246997",
   "metadata": {},
   "outputs": [],
   "source": [
    "ctx = create_urllib3_context()\n",
    "ctx.load_default_certs()\n",
    "ctx.set_ciphers('AES256-GCM-SHA384')\n",
    "\n",
    "session = requests.session()\n",
    "session.adapters.pop('https://', None)\n",
    "session.mount('https://', CustomSSLContextHTTPAdapter(ctx))"
   ]
  },
  {
   "cell_type": "markdown",
   "id": "b83f1f6b",
   "metadata": {},
   "source": [
    "<br>\n",
    "\n",
    "Cria a URL do _layer_\n"
   ]
  },
  {
   "cell_type": "code",
   "execution_count": null,
   "id": "146487f3",
   "metadata": {},
   "outputs": [],
   "source": [
    "# Parâmetros\n",
    "filename = 'Assentamento Reconhecimento.zip'\n",
    "url_base = 'https://certificacao.incra.gov.br/csv_shp/zip/'\n",
    "\n",
    "# Contrói a URL\n",
    "url_lyr = urljoin(base=url_base, url=quote(filename))\n",
    "url_lyr"
   ]
  },
  {
   "cell_type": "code",
   "execution_count": null,
   "id": "a3c76ad8",
   "metadata": {},
   "outputs": [],
   "source": [
    "s = session.get(url=url_lyr)\n",
    "s"
   ]
  },
  {
   "cell_type": "markdown",
   "id": "b44e7aa2",
   "metadata": {},
   "source": [
    "<br>\n",
    "\n",
    "-----\n",
    "\n",
    "## *Download* em *chuncks*"
   ]
  },
  {
   "cell_type": "code",
   "execution_count": null,
   "id": "75baf143",
   "metadata": {},
   "outputs": [],
   "source": [
    "# Faz requisição\n",
    "s = session.get(url=url_lyr, stream=True)\n",
    "\n",
    "# Define nome do arquivo\n",
    "output_file = input_path / filename\n",
    "\n",
    "with open(file=output_file, mode='wb') as f:\n",
    "    for chunk in s.iter_content(chunk_size=8192):\n",
    "        if chunk:  # filtra keep-alive chunks\n",
    "            f.write(chunk)"
   ]
  },
  {
   "cell_type": "markdown",
   "id": "43f1cfec",
   "metadata": {},
   "source": [
    "<br>\n",
    "\n",
    "------\n",
    "\n",
    "## Dicionários"
   ]
  },
  {
   "cell_type": "code",
   "execution_count": null,
   "id": "4cf1122f",
   "metadata": {},
   "outputs": [],
   "source": [
    "dict_layers = {\n",
    "    'Imóvel certificado SIGEF Total': {\n",
    "        'filename': 'Sigef Brasil.zip',\n",
    "        'dowpdown': 'sigef',\n",
    "    },\n",
    "    'Imóvel certificado SIGEF Público': {\n",
    "        'filename': 'Sigef Público.zip',\n",
    "        'dowpdown': 'sigef_pub',\n",
    "    },\n",
    "    'Imóvel certificado SIGEF Privado': {\n",
    "        'filename': 'Sigef Privado.zip',\n",
    "        'dowpdown': 'sigef_pri',\n",
    "    },\n",
    "    'Imóvel certificado SNCI Total': {\n",
    "        'filename': 'Imóvel certificado SNCI Brasil.zip',\n",
    "        'dowpdown': 'snci',\n",
    "    },\n",
    "    'Imóvel certificado SNCI Público': {\n",
    "        'filename': 'Imóvel certificado SNCI Público.zip',\n",
    "        'dowpdown': 'snci_pub',\n",
    "    },\n",
    "    'Imóvel certificado SNCI Privado': {\n",
    "        'filename': 'Imóvel certificado SNCI Privado.zip',\n",
    "        'dowpdown': 'snci_pri',\n",
    "    },\n",
    "    'Projetos de Assentamento Total': {\n",
    "        'filename': 'Assentamento Brasil.zip',\n",
    "        'dowpdown': 'assent',\n",
    "    },\n",
    "    'Projetos de Assentamento Federal': {\n",
    "        'filename': 'Assentamento Federal.zip',\n",
    "        'dowpdown': 'assent_f',\n",
    "    },\n",
    "    'Projetos de Assentamento Reconhecimento': {\n",
    "        'filename': 'Assentamento Reconhecimento.zip',\n",
    "        'dowpdown': 'assent_r',\n",
    "    },\n",
    "    'Áreas de Quilombolas': {\n",
    "        'filename': 'Áreas de Quilombolas.zip',\n",
    "        'dowpdown': 'quilom',\n",
    "    },\n",
    "}\n",
    "\n",
    "uf = 'SP'\n",
    "# uf = None\n",
    "url_base = 'https://certificacao.incra.gov.br/csv_shp/zip/'\n",
    "\n",
    "# a = 'Sigef%20Brasil.zip'\n",
    "\n",
    "for k, v in dict_layers.items():\n",
    "    print('-' * 60)\n",
    "    print(k)\n",
    "\n",
    "    # Parâmetro\n",
    "    filename = v['filename']\n",
    "    dowpdown = v['dowpdown']\n",
    "\n",
    "    # ddddd\n",
    "    if uf is None:\n",
    "        uf_fix = ''\n",
    "    else:\n",
    "        uf_fix = uf\n",
    "\n",
    "    # Faz o request para atualizar o dado\n",
    "    s = session.post(\n",
    "        url='https://certificacao.incra.gov.br/csv_shp/export_shp.py',\n",
    "        params={'selectshp': dowpdown, 'selectuf': uf_fix},\n",
    "        stream=True,\n",
    "    )\n",
    "\n",
    "    # Estado\n",
    "    if uf is not None:\n",
    "        filename = filename.strip()\n",
    "        filename = filename.removesuffix('.zip')\n",
    "        filename = f'{filename}_{uf}.zip'\n",
    "\n",
    "    # print(filename)\n",
    "\n",
    "    # Contrói a URL\n",
    "    url_lyr = urljoin(\n",
    "        base=url_base.strip(),\n",
    "        url=quote(filename),\n",
    "    )\n",
    "    print(url_lyr)\n",
    "\n",
    "    # Faz requisição\n",
    "    s = session.get(url=url_lyr, stream=True)\n",
    "\n",
    "    # Define nome do arquivo\n",
    "    output_file = input_path / filename\n",
    "\n",
    "    # Faz o request para obter o dado\n",
    "    with open(file=output_file, mode='wb') as f:\n",
    "        for chunk in s.iter_content(chunk_size=8192):\n",
    "            if chunk:  # filtra keep-alive chunks\n",
    "                f.write(chunk)"
   ]
  },
  {
   "cell_type": "markdown",
   "id": "c1224030",
   "metadata": {},
   "source": [
    "<br>\n",
    "\n",
    "---\n",
    "\n",
    "## Update\n"
   ]
  },
  {
   "cell_type": "code",
   "execution_count": null,
   "id": "59465923",
   "metadata": {},
   "outputs": [],
   "source": [
    "# Faz requisição para update\n",
    "s = session.post(\n",
    "    url='https://certificacao.incra.gov.br/csv_shp/export_shp.py',\n",
    "    params={'selectshp': 'quilom', 'selectuf': 'AP'},\n",
    "    stream=True,\n",
    ")\n",
    "\n",
    "s.status_code"
   ]
  },
  {
   "cell_type": "code",
   "execution_count": null,
   "id": "a44f0156",
   "metadata": {},
   "outputs": [],
   "source": [
    "r.content"
   ]
  },
  {
   "cell_type": "markdown",
   "id": "4186f1ed",
   "metadata": {},
   "source": [
    "<br>\n",
    "\n",
    "------------\n",
    "\n",
    "## Geopandas"
   ]
  },
  {
   "cell_type": "code",
   "execution_count": null,
   "id": "f6d1cdf5",
   "metadata": {},
   "outputs": [],
   "source": [
    "gdf = gpd.read_file(filename=input_path / 'Sigef Público_SP.zip')"
   ]
  },
  {
   "cell_type": "code",
   "execution_count": null,
   "id": "4c44a695",
   "metadata": {},
   "outputs": [],
   "source": [
    "gdf.crs"
   ]
  },
  {
   "cell_type": "code",
   "execution_count": null,
   "id": "84331fd2",
   "metadata": {},
   "outputs": [],
   "source": [
    "gdf.info()\n",
    "gdf.head()"
   ]
  },
  {
   "cell_type": "markdown",
   "id": "b3619a24",
   "metadata": {},
   "source": [
    "<br>\n",
    "\n",
    "------------\n",
    "\n",
    "## Outros"
   ]
  },
  {
   "cell_type": "code",
   "execution_count": null,
   "id": "41c46fd0",
   "metadata": {},
   "outputs": [],
   "source": [
    "s = session.get(url=url, allow_redirects=True)\n",
    "s.content"
   ]
  },
  {
   "cell_type": "code",
   "execution_count": null,
   "id": "797a43cb",
   "metadata": {},
   "outputs": [],
   "source": [
    "#page = urllib.request.urlopen(url)\n",
    "page = urllib.request.urlopen(url=url, context=ssl_context)\n",
    "page.geturl()"
   ]
  },
  {
   "cell_type": "code",
   "execution_count": null,
   "id": "f92deafb",
   "metadata": {},
   "outputs": [],
   "source": [
    "soup = BeautifulSoup(page, 'html.parser')\n",
    "print(soup.prettify())"
   ]
  },
  {
   "cell_type": "code",
   "execution_count": null,
   "id": "a4d8295d",
   "metadata": {},
   "outputs": [],
   "source": [
    "BeautifulSoup(s)"
   ]
  },
  {
   "cell_type": "code",
   "execution_count": null,
   "id": "e3fefb5a",
   "metadata": {},
   "outputs": [],
   "source": [
    "content = urllib.request.urlopen(url=url, context=ssl_context).read()\n",
    "tree = html.fromstring(content)\n",
    "tree"
   ]
  },
  {
   "cell_type": "code",
   "execution_count": null,
   "id": "082692ca",
   "metadata": {},
   "outputs": [],
   "source": [
    "content"
   ]
  },
  {
   "cell_type": "code",
   "execution_count": null,
   "id": "5fcd0368",
   "metadata": {},
   "outputs": [],
   "source": [
    "list_divs = tree.xpath(\"//select[@id='selectshp']\")\n",
    "list_divs = tree.xpath(\"//form[@class='form-horizontal form_1']\")\n",
    "\n",
    "list_divs"
   ]
  },
  {
   "cell_type": "code",
   "execution_count": null,
   "id": "c234038e",
   "metadata": {},
   "outputs": [],
   "source": []
  },
  {
   "cell_type": "code",
   "execution_count": null,
   "id": "722f426b",
   "metadata": {},
   "outputs": [],
   "source": [
    "r.content"
   ]
  },
  {
   "cell_type": "code",
   "execution_count": null,
   "id": "ba5eb08f",
   "metadata": {},
   "outputs": [],
   "source": [
    "'https://certificacao.incra.gov.br/csv_shp/zip/%C3%81reas%20de%20Quilombolas_AP.zip'"
   ]
  },
  {
   "cell_type": "code",
   "execution_count": null,
   "id": "1741d5a1",
   "metadata": {},
   "outputs": [],
   "source": [
    "Path('https://certificacao.incra.gov.br/csv_shp/zip')"
   ]
  },
  {
   "cell_type": "code",
   "execution_count": null,
   "id": "7acbad16",
   "metadata": {},
   "outputs": [],
   "source": [
    "\n",
    "\n",
    "# Configure o seu token\n",
    "pt.config(token='SEU_TOKEN')\n",
    "\n",
    "# Exemplo: buscando dados sobre despesas\n",
    "despesas = pt.despesas.get_despesas(ano=2024, mes=5)\n",
    "\n",
    "# Faça algo com os dados, como imprimir ou salvar em um arquivo\n",
    "for despesa in despesas:\n",
    "    print(despesa)"
   ]
  },
  {
   "cell_type": "code",
   "execution_count": null,
   "id": "7a7578c0",
   "metadata": {},
   "outputs": [],
   "source": []
  }
 ],
 "metadata": {
  "kernelspec": {
   "display_name": "pablocarreira-lastest",
   "language": "python",
   "name": "python3"
  },
  "language_info": {
   "codemirror_mode": {
    "name": "ipython",
    "version": 3
   },
   "file_extension": ".py",
   "mimetype": "text/x-python",
   "name": "python",
   "nbconvert_exporter": "python",
   "pygments_lexer": "ipython3",
   "version": "3.12.12"
  }
 },
 "nbformat": 4,
 "nbformat_minor": 5
}
