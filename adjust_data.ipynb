{
 "cells": [
  {
   "cell_type": "markdown",
   "id": "304a6f1b-0ab5-4498-adc7-8940dee403a9",
   "metadata": {},
   "source": [
    "<br>\n",
    "\n",
    "# Concatena *Layers*"
   ]
  },
  {
   "cell_type": "code",
   "execution_count": null,
   "id": "5b8bc872",
   "metadata": {},
   "outputs": [],
   "source": [
    "import io\n",
    "import os\n",
    "import fiona\n",
    "import geopandas as gpd"
   ]
  },
  {
   "cell_type": "code",
   "execution_count": null,
   "id": "a4831acd",
   "metadata": {},
   "outputs": [],
   "source": [
    "layers = [\n",
    "    #'Áreas de Quilombolas',\n",
    "    #'Assentamento',\n",
    "    'Imóvel certificado SNCI',\n",
    "    #'Sigef'\n",
    "]"
   ]
  },
  {
   "cell_type": "code",
   "execution_count": null,
   "id": "483268e3",
   "metadata": {},
   "outputs": [],
   "source": [
    "for layer in layers:\n",
    "    # List UFs\n",
    "    list_lyr_ufs = [i for i in os.listdir(os.path.join('data', 'brutos')) if i.startswith(layer) and i.endswith('.zip')]    \n",
    "    print(' > {}'.format(layer))\n",
    "    \n",
    "    # Loop UFs\n",
    "    gdf = gpd.GeoDataFrame()\n",
    "    for lyr in list_lyr_ufs:\n",
    "        lyr = os.path.join('data', 'brutos', lyr)\n",
    "        gdf_ = gpd.read_file(lyr)\n",
    "        gdf = gdf.append(gdf_)\n",
    "        print(' > {}'.format(lyr))\n",
    "    \n",
    "    # Save\n",
    "    gdf = gdf.set_crs(epsg=4674)\n",
    "    gdf.to_file(os.path.join('data', '{}.geojson'.format(layer)), driver='GeoJSON', encoding='utf-8')\n",
    "    #gdf.to_file(os.path.join('data', 'incra.gpkg'), layer=layer, driver='GPKG')"
   ]
  },
  {
   "cell_type": "code",
   "execution_count": null,
   "id": "76d41b74",
   "metadata": {},
   "outputs": [],
   "source": []
  }
 ],
 "metadata": {
  "kernelspec": {
   "display_name": "Python [conda env:pablocarreira-py38] *",
   "language": "python",
   "name": "conda-env-pablocarreira-py38-py"
  },
  "language_info": {
   "codemirror_mode": {
    "name": "ipython",
    "version": 3
   },
   "file_extension": ".py",
   "mimetype": "text/x-python",
   "name": "python",
   "nbconvert_exporter": "python",
   "pygments_lexer": "ipython3",
   "version": "3.8.10"
  }
 },
 "nbformat": 4,
 "nbformat_minor": 5
}
