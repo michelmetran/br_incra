{
 "cells": [
  {
   "cell_type": "markdown",
   "id": "304a6f1b-0ab5-4498-adc7-8940dee403a9",
   "metadata": {},
   "source": [
    "<br>\n",
    "\n",
    "# Introdução\n",
    "\n",
    "Concatena _layers_.\n"
   ]
  },
  {
   "cell_type": "code",
   "execution_count": null,
   "id": "5b8bc872",
   "metadata": {},
   "outputs": [],
   "source": [
    "import geopandas as gpd\n",
    "import pandas as pd\n",
    "from my_paths import input_path, output_path"
   ]
  },
  {
   "cell_type": "code",
   "execution_count": null,
   "id": "d33ae91a",
   "metadata": {},
   "outputs": [],
   "source": [
    "# Lista de Layers\n",
    "layers = list(input_path.rglob('*.zip'))\n",
    "layers = [str(f.stem) for f in layers]\n",
    "layers = [f.split('_')[0] for f in layers]\n",
    "layers = [f.replace('Brasil', '').strip() for f in layers]\n",
    "layers = list(set(layers))\n",
    "layers.sort()\n",
    "layers\n"
   ]
  },
  {
   "cell_type": "code",
   "execution_count": null,
   "id": "483268e3",
   "metadata": {},
   "outputs": [],
   "source": [
    "for layer in layers:\n",
    "    print(f' > {layer}')\n",
    "\n",
    "    # List UFs\n",
    "    list_files_ufs = list(input_path.rglob('*.zip'))\n",
    "    list_files_ufs = [\n",
    "        f for f in list_files_ufs if str(f.name).startswith(layer)\n",
    "    ]\n",
    "    # print(list_files_ufs)\n",
    "\n",
    "    # Loop UFs\n",
    "    list_gdf = []\n",
    "    for file_uf in list_files_ufs:\n",
    "        print(f' > {file_uf}')\n",
    "        gdf_temp = gpd.read_file(file_uf)\n",
    "        gdf_temp = gdf_temp.set_crs(epsg=4674)\n",
    "        gdf_temp = gdf_temp.to_crs(epsg=4326)\n",
    "        list_gdf.append(gdf_temp)\n",
    "\n",
    "    # Ajustes\n",
    "    gdf = gpd.GeoDataFrame(pd.concat(list_gdf, ignore_index=True))\n",
    "    gdf = gdf.set_crs(epsg=4326)\n",
    "\n",
    "    # Save\n",
    "    gdf.to_file(output_path / f'{layer}.gpkg', layer=layer, driver='GPKG')\n",
    "\n",
    "# Fim\n",
    "print('Fim!')\n"
   ]
  },
  {
   "cell_type": "code",
   "execution_count": null,
   "id": "4e0a3a7d",
   "metadata": {},
   "outputs": [],
   "source": []
  }
 ],
 "metadata": {
  "kernelspec": {
   "display_name": "Python 3.10.6 ('pablocarreira-lastest')",
   "language": "python",
   "name": "python3"
  },
  "language_info": {
   "codemirror_mode": {
    "name": "ipython",
    "version": 3
   },
   "file_extension": ".py",
   "mimetype": "text/x-python",
   "name": "python",
   "nbconvert_exporter": "python",
   "pygments_lexer": "ipython3",
   "version": "3.10.6"
  },
  "vscode": {
   "interpreter": {
    "hash": "4fe01b1e548a48625e93ad3ec9d7217eaa82c8c5a1273b2b8580787b5d806f08"
   }
  }
 },
 "nbformat": 4,
 "nbformat_minor": 5
}
