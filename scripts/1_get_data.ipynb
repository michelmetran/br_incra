{
 "cells": [
  {
   "cell_type": "markdown",
   "id": "89fc1ae8",
   "metadata": {},
   "source": [
    "<br>\n",
    "\n",
    "# INCRA"
   ]
  },
  {
   "cell_type": "code",
   "execution_count": null,
   "id": "446fbf9a",
   "metadata": {},
   "outputs": [],
   "source": [
    "import os\n",
    "import time\n",
    "import requests"
   ]
  },
  {
   "cell_type": "code",
   "execution_count": null,
   "id": "38d2b459",
   "metadata": {},
   "outputs": [],
   "source": [
    "from selenium import webdriver\n",
    "from selenium.webdriver.support.ui import Select\n",
    "from selenium.webdriver.firefox.options import Options"
   ]
  },
  {
   "cell_type": "markdown",
   "id": "0acfbd1a",
   "metadata": {},
   "source": [
    "<br>\n",
    "\n",
    "## Driver"
   ]
  },
  {
   "cell_type": "code",
   "execution_count": null,
   "id": "5344e974",
   "metadata": {},
   "outputs": [],
   "source": [
    "def create_driver(down_path, adds_path, logs_path, headless=False):\n",
    "    global driver\n",
    "    \n",
    "    # Create directory\n",
    "    os.makedirs(adds_path, exist_ok=True)\n",
    "    os.makedirs(logs_path, exist_ok=True)\n",
    "    os.makedirs(down_path, exist_ok=True)\n",
    "\n",
    "    # Download add-ons Xpath\n",
    "    url = 'https://addons.mozilla.org/firefox/downloads/file/3588871/xpath_finder-1.0.2-fx.xpi'\n",
    "    r = requests.get(url)    \n",
    "    with open(os.path.join(adds_path, 'xpath.xpi'), 'wb') as f:\n",
    "        f.write(r.content)\n",
    "     \n",
    "    # Escolhe o driver Firefox com Profile e Options\n",
    "    profile = webdriver.FirefoxProfile()\n",
    "    profile.set_preference('intl.accept_languages', 'pt-BR, pt')\n",
    "    profile.set_preference('browser.download.folderList', 2)\n",
    "    profile.set_preference('browser.download.manager.showWhenStarting', 'false')\n",
    "    profile.set_preference('browser.download.dir', os.path.join(os.getcwd(), 'data', 'brutos'))\n",
    "    profile.set_preference('browser.helperApps.neverAsk.saveToDisk', 'application/zip, application/octet-stream, application/x-zip-compressed, multipart/x-zip')\n",
    "    profile.set_preference('general.useragent.override', 'Mozilla/5.0 (X11; Linux x86_64) AppleWebKit/537.36 (KHTML, like Gecko) Chrome/44.0.2403.157 Safari/537.36')\n",
    "\n",
    "    options = Options()\n",
    "    options.headless = headless\n",
    "\n",
    "    # Driver\n",
    "    driver = webdriver.Firefox(firefox_profile=profile, options=options, service_log_path=os.path.join(logs_path, 'geckodriver.log'))\n",
    "    driver.install_addon(os.path.abspath(os.path.join(adds_path, 'xpath.xpi')), temporary=True)\n",
    "    return driver\n",
    "    \n",
    "    # Xpath\n",
    "    # r = requests.get('https://addons.mozilla.org/firefox/downloads/file/3588871/xpath_finder-1.0.2-fx.xpi')\n",
    "    # os.makedirs('adds', exist_ok=True)\n",
    "    # with open(os.path.join('adds', 'xpath.xpi'), 'wb') as f:\n",
    "    #     f.write(r.content)\n",
    "    # driver.install_addon(os.path.abspath(os.path.join('adds', 'xpath.xpi')), temporary=True)"
   ]
  },
  {
   "cell_type": "markdown",
   "id": "0dd0afee",
   "metadata": {},
   "source": [
    "<br>\n",
    "\n",
    "## Get Infos"
   ]
  },
  {
   "cell_type": "code",
   "execution_count": null,
   "id": "cef58f0a",
   "metadata": {},
   "outputs": [],
   "source": [
    "def get_infos():\n",
    "    # Get text of file\n",
    "    text = driver.find_element_by_xpath('//*[@class=\"form-horizontal form_2\"]').text\n",
    "    text = text.split('\\n')\n",
    "    text = [i.split(':') for i in text]\n",
    "    \n",
    "    # Get dictionary\n",
    "    dict_infos = {\n",
    "        'camada': text[0][1].strip(),\n",
    "        'srid': text[1][1].strip(),\n",
    "        'processamento': text[2][1].strip(),\n",
    "        'nome_arquivo': text[3][1].strip(),\n",
    "    }\n",
    "    return dict_infos"
   ]
  },
  {
   "cell_type": "markdown",
   "id": "f58a8326",
   "metadata": {},
   "source": [
    "<br>\n",
    "\n",
    "## Sigef"
   ]
  },
  {
   "cell_type": "code",
   "execution_count": null,
   "id": "51ca936d",
   "metadata": {},
   "outputs": [],
   "source": [
    "def get_sigef_estado(estado, t=60):\n",
    "    # Start\n",
    "    print('\"{}\" início donwload...'.format(estado))\n",
    "\n",
    "    # Seleciona \"Nome da Camada\"\n",
    "    sat = Select(driver.find_element_by_xpath(\"//*[@id='selectshp']\"))\n",
    "    sat.select_by_visible_text('Imóvel certificado SIGEF Total')\n",
    "\n",
    "    # Seleciona o Estado\n",
    "    uf = Select(driver.find_element_by_xpath(\"//*[@id='selectuf']\"))\n",
    "    uf.select_by_visible_text(estado)\n",
    "    time.sleep(2)\n",
    "\n",
    "    # Clica em \"Enviar\" para gerar o arquivo\n",
    "    driver.find_element_by_xpath(\"//*[@id='enviar']\").click()\n",
    "    #time.sleep(2)\n",
    "\n",
    "    # Enquanto está processando, aguarda\n",
    "    dict_infos = get_infos()\n",
    "    while dict_infos['camada'] == '...':\n",
    "        time.sleep(2)\n",
    "        dict_infos = get_infos()\n",
    "        print('Waiting...')\n",
    "    print(dict_infos)\n",
    "\n",
    "    # Clica para fazer download\n",
    "    driver.find_element_by_xpath('//*[@class=\"form-horizontal form_2\"]//a').click()\n",
    "    time.sleep(t)\n",
    "\n",
    "    # End\n",
    "    print('\"{}\" donwload ok!'.format(estado))"
   ]
  },
  {
   "cell_type": "markdown",
   "id": "05fbe552",
   "metadata": {},
   "source": [
    "<br>\n",
    "\n",
    "## SNCI"
   ]
  },
  {
   "cell_type": "code",
   "execution_count": null,
   "id": "dc6b6581",
   "metadata": {},
   "outputs": [],
   "source": [
    "def get_snci_estado(estado, t=60):\n",
    "    # Start\n",
    "    print('\"{}\" início donwload...'.format(estado))\n",
    "\n",
    "    # Seleciona \"Nome da Camada\"\n",
    "    sat = Select(driver.find_element_by_xpath(\"//*[@id='selectshp']\"))\n",
    "    sat.select_by_visible_text('Imóvel certificado SNCI Total')\n",
    "\n",
    "    # Seleciona o Estado\n",
    "    uf = Select(driver.find_element_by_xpath(\"//*[@id='selectuf']\"))\n",
    "    uf.select_by_visible_text(estado)\n",
    "    time.sleep(2)\n",
    "\n",
    "    # Clica em \"Enviar\" para gerar o arquivo\n",
    "    driver.find_element_by_xpath(\"//*[@id='enviar']\").click()\n",
    "    #time.sleep(2)\n",
    "\n",
    "    # Enquanto está processando, aguarda\n",
    "    dict_infos = get_infos()\n",
    "    while dict_infos['camada'] == '...':\n",
    "        time.sleep(2)\n",
    "        dict_infos = get_infos()\n",
    "        print('Waiting...')\n",
    "    print(dict_infos)\n",
    "\n",
    "    # Clica para fazer download\n",
    "    driver.find_element_by_xpath('//*[@class=\"form-horizontal form_2\"]//a').click()\n",
    "    time.sleep(t)\n",
    "\n",
    "    # End\n",
    "    print('\"{}\" donwload ok!'.format(estado))"
   ]
  },
  {
   "cell_type": "markdown",
   "id": "5e762118",
   "metadata": {},
   "source": [
    "<br>\n",
    "\n",
    "## Projeto de Assentamento"
   ]
  },
  {
   "cell_type": "code",
   "execution_count": null,
   "id": "fbecff38",
   "metadata": {},
   "outputs": [],
   "source": [
    "def get_assentamento_estado(estado, t=60):\n",
    "    # Start\n",
    "    print('\"{}\" início donwload...'.format(estado))\n",
    "\n",
    "    # Seleciona \"Nome da Camada\"\n",
    "    sat = Select(driver.find_element_by_xpath(\"//*[@id='selectshp']\"))\n",
    "    sat.select_by_visible_text('Projetos de Assentamento Total')\n",
    "\n",
    "    # Seleciona o Estado\n",
    "    uf = Select(driver.find_element_by_xpath(\"//*[@id='selectuf']\"))\n",
    "    uf.select_by_visible_text(estado)\n",
    "    time.sleep(2)\n",
    "\n",
    "    # Clica em \"Enviar\" para gerar o arquivo\n",
    "    driver.find_element_by_xpath(\"//*[@id='enviar']\").click()\n",
    "    #time.sleep(2)\n",
    "\n",
    "    # Enquanto está processando, aguarda\n",
    "    dict_infos = get_infos()\n",
    "    while dict_infos['camada'] == '...':\n",
    "        time.sleep(2)\n",
    "        dict_infos = get_infos()\n",
    "        print('Waiting...')\n",
    "    print(dict_infos)\n",
    "\n",
    "    # Clica para fazer download\n",
    "    driver.find_element_by_xpath('//*[@class=\"form-horizontal form_2\"]//a').click()\n",
    "    time.sleep(t)\n",
    "\n",
    "    # End\n",
    "    print('\"{}\" donwload ok!'.format(estado))"
   ]
  },
  {
   "cell_type": "markdown",
   "id": "32005425",
   "metadata": {},
   "source": [
    "<br>\n",
    "\n",
    "## Quilombolas"
   ]
  },
  {
   "cell_type": "code",
   "execution_count": null,
   "id": "c6adb2c6",
   "metadata": {},
   "outputs": [],
   "source": [
    "def get_quilombolas_estado(estado, t=60):\n",
    "    # Start\n",
    "    print(f'\"{estado}\" início donwload...')\n",
    "\n",
    "    # Seleciona \"Nome da Camada\"\n",
    "    sat = Select(driver.find_element_by_xpath(\"//*[@id='selectshp']\"))\n",
    "    sat.select_by_visible_text('Áreas de Quilombolas')\n",
    "\n",
    "    # Seleciona o Estado\n",
    "    uf = Select(driver.find_element_by_xpath(\"//*[@id='selectuf']\"))\n",
    "    uf.select_by_visible_text(estado)\n",
    "    time.sleep(2)\n",
    "\n",
    "    # Clica em \"Enviar\" para gerar o arquivo\n",
    "    driver.find_element_by_xpath(\"//*[@id='enviar']\").click()\n",
    "    #time.sleep(2)\n",
    "\n",
    "    # Enquanto está processando, aguarda\n",
    "    dict_infos = get_infos()\n",
    "    while dict_infos['camada'] == '...':\n",
    "        time.sleep(2)\n",
    "        dict_infos = get_infos()\n",
    "        print('Waiting...')\n",
    "    print(dict_infos)\n",
    "\n",
    "    # Clica para fazer download\n",
    "    driver.find_element_by_xpath('//*[@class=\"form-horizontal form_2\"]//a').click()\n",
    "    time.sleep(t)\n",
    "\n",
    "    # End\n",
    "    print('\"{}\" donwload ok!'.format(estado))"
   ]
  },
  {
   "cell_type": "markdown",
   "id": "3c0b4ecf",
   "metadata": {},
   "source": [
    "<br>\n",
    "\n",
    "# Run"
   ]
  },
  {
   "cell_type": "code",
   "execution_count": null,
   "id": "7088783c",
   "metadata": {},
   "outputs": [],
   "source": [
    "# Create Driver\n",
    "driver = create_driver(\n",
    "    down_path=os.path.join(os.getcwd(), '..', 'data', 'brutos'),\n",
    "    adds_path=os.path.join(os.getcwd(), '..', 'adds'),\n",
    "    logs_path=os.path.join(os.getcwd(), '..', 'logs'),\n",
    "    headless=False,\n",
    ")"
   ]
  },
  {
   "cell_type": "code",
   "execution_count": null,
   "id": "47a7cc11",
   "metadata": {},
   "outputs": [],
   "source": [
    "# Get URL\n",
    "url = 'https://certificacao.incra.gov.br/csv_shp/export_shp.py'\n",
    "driver.get(url)"
   ]
  },
  {
   "cell_type": "code",
   "execution_count": null,
   "id": "4adc2946",
   "metadata": {},
   "outputs": [],
   "source": [
    "# Pega todas as opções de Estados\n",
    "ufs_xpath = driver.find_elements_by_xpath(\"//*[@id='selectuf']/option\")\n",
    "\n",
    "# Monta uma lista com as opções de Estado\n",
    "ufs = []\n",
    "for i in ufs_xpath[1:]:\n",
    "    ufs.append(i.get_attribute('innerHTML'))\n",
    "\n",
    "# Results\n",
    "print(len(ufs))\n",
    "print(ufs)\n",
    "\n",
    "# Define o Estado\n",
    "estado = ufs[24]\n",
    "estado\n",
    "\n",
    "# Fechar Driver\n",
    "driver.quit()"
   ]
  },
  {
   "cell_type": "code",
   "execution_count": null,
   "id": "eefc7e64",
   "metadata": {},
   "outputs": [],
   "source": [
    "#get_sigef_estado(estado)"
   ]
  },
  {
   "cell_type": "markdown",
   "id": "574d8d23",
   "metadata": {},
   "source": [
    "<br>\n",
    "\n",
    "## Todos os Estados"
   ]
  },
  {
   "cell_type": "code",
   "execution_count": null,
   "id": "54e2a592",
   "metadata": {},
   "outputs": [],
   "source": [
    "ufs = ufs[24:25]"
   ]
  },
  {
   "cell_type": "code",
   "execution_count": null,
   "id": "9b9f22f4",
   "metadata": {},
   "outputs": [],
   "source": [
    "tempo = 60\n",
    "\n",
    "for estado in ufs:\n",
    "    driver = create_driver(\n",
    "        down_path=os.path.join(os.getcwd(), '..', 'data', 'brutos'),\n",
    "        adds_path=os.path.join(os.getcwd(), '..', 'adds'),\n",
    "        logs_path=os.path.join(os.getcwd(), '..', 'logs'),\n",
    "        headless=False,\n",
    "    )\n",
    "    driver.get(url)\n",
    "    get_sigef_estado(estado, t=tempo)\n",
    "    #get_snci_estado(estado, t=tempo)\n",
    "    #get_assentamento_estado(estado, t=tempo)\n",
    "    #get_quilombolas_estado(estado, t=tempo)\n",
    "    driver.quit()"
   ]
  },
  {
   "cell_type": "code",
   "execution_count": null,
   "id": "4765b9bc",
   "metadata": {},
   "outputs": [],
   "source": [
    "# Fechar Driver\n",
    "driver.quit()"
   ]
  },
  {
   "cell_type": "code",
   "execution_count": null,
   "id": "369c740d-a522-4329-b1e7-81b13aa2a76b",
   "metadata": {},
   "outputs": [],
   "source": []
  }
 ],
 "metadata": {
  "kernelspec": {
   "display_name": "Python 3.9.13 ('pablocarreira-py39')",
   "language": "python",
   "name": "python3"
  },
  "language_info": {
   "codemirror_mode": {
    "name": "ipython",
    "version": 3
   },
   "file_extension": ".py",
   "mimetype": "text/x-python",
   "name": "python",
   "nbconvert_exporter": "python",
   "pygments_lexer": "ipython3",
   "version": "3.9.13"
  },
  "vscode": {
   "interpreter": {
    "hash": "397a8db9a99587ebc9659e575e97c3dbc03b7cdbd9bc181d706cc19eab1087ed"
   }
  }
 },
 "nbformat": 4,
 "nbformat_minor": 5
}
