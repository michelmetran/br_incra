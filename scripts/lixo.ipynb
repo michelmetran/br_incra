{
 "cells": [
  {
   "cell_type": "code",
   "execution_count": null,
   "metadata": {},
   "outputs": [],
   "source": [
    "# def create_driver(down_path, adds_path, logs_path, headless=False):\n",
    "#     global driver\n",
    "    \n",
    "#     # Create directory\n",
    "#     os.makedirs(adds_path, exist_ok=True)\n",
    "#     os.makedirs(logs_path, exist_ok=True)\n",
    "#     os.makedirs(down_path, exist_ok=True)\n",
    "\n",
    "#     # Download add-ons Xpath\n",
    "#     url = 'https://addons.mozilla.org/firefox/downloads/file/3588871/xpath_finder-1.0.2-fx.xpi'\n",
    "#     r = requests.get(url)    \n",
    "#     with open(os.path.join(adds_path, 'xpath.xpi'), 'wb') as f:\n",
    "#         f.write(r.content)\n",
    "     \n",
    "#     # Escolhe o driver Firefox com Profile e Options\n",
    "#     profile = webdriver.FirefoxProfile()\n",
    "#     profile.set_preference('intl.accept_languages', 'pt-BR, pt')\n",
    "#     profile.set_preference('browser.download.folderList', 2)\n",
    "#     profile.set_preference('browser.download.manager.showWhenStarting', 'false')\n",
    "#     profile.set_preference('browser.download.dir', os.path.join(os.getcwd(), 'data', 'brutos'))\n",
    "#     profile.set_preference('browser.helperApps.neverAsk.saveToDisk', 'application/zip, application/octet-stream, application/x-zip-compressed, multipart/x-zip')\n",
    "#     profile.set_preference('general.useragent.override', 'Mozilla/5.0 (X11; Linux x86_64) AppleWebKit/537.36 (KHTML, like Gecko) Chrome/44.0.2403.157 Safari/537.36')\n",
    "\n",
    "#     options = Options()\n",
    "#     options.headless = headless\n",
    "\n",
    "#     # Driver\n",
    "#     driver = webdriver.Firefox(firefox_profile=profile, options=options, service_log_path=os.path.join(logs_path, 'geckodriver.log'))\n",
    "#     driver.install_addon(os.path.abspath(os.path.join(adds_path, 'xpath.xpi')), temporary=True)\n",
    "#     return driver\n",
    "    \n",
    "    # Xpath\n",
    "    # r = requests.get('https://addons.mozilla.org/firefox/downloads/file/3588871/xpath_finder-1.0.2-fx.xpi')\n",
    "    # os.makedirs('adds', exist_ok=True)\n",
    "    # with open(os.path.join('adds', 'xpath.xpi'), 'wb') as f:\n",
    "    #     f.write(r.content)\n",
    "    # driver.install_addon(os.path.abspath(os.path.join('adds', 'xpath.xpi')), temporary=True)\n",
    "\n",
    "# # Create Driver\n",
    "# driver = create_driver(\n",
    "#     down_path=os.path.join(os.getcwd(), '..', 'data', 'brutos'),\n",
    "#     adds_path=os.path.join(os.getcwd(), '..', 'adds'),\n",
    "#     logs_path=os.path.join(os.getcwd(), '..', 'logs'),\n",
    "#     headless=False,\n",
    "# )\n",
    "\n",
    "# driver = create_driver(\n",
    "#     down_path=os.path.join(os.getcwd(), '..', 'data', 'brutos'),\n",
    "#     adds_path=os.path.join(os.getcwd(), '..', 'adds'),\n",
    "#     logs_path=os.path.join(os.getcwd(), '..', 'logs'),\n",
    "#     headless=False,\n",
    "# )"
   ]
  },
  {
   "cell_type": "code",
   "execution_count": null,
   "metadata": {},
   "outputs": [],
   "source": []
  }
 ],
 "metadata": {
  "kernelspec": {
   "display_name": "Python 3.9.13 ('pablocarreira-py39')",
   "language": "python",
   "name": "python3"
  },
  "language_info": {
   "name": "python",
   "version": "3.9.13"
  },
  "orig_nbformat": 4,
  "vscode": {
   "interpreter": {
    "hash": "099d8e07b24be7a4c6e750d71e0b54278a1e7485a4f6d8709d6a0d5aca75d1b5"
   }
  }
 },
 "nbformat": 4,
 "nbformat_minor": 2
}
