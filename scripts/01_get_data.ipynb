{
 "cells": [
  {
   "cell_type": "markdown",
   "id": "89fc1ae8",
   "metadata": {},
   "source": [
    "<br>\n",
    "\n",
    "# Introdução\n"
   ]
  },
  {
   "cell_type": "code",
   "execution_count": 1,
   "id": "3cc2f6c0",
   "metadata": {},
   "outputs": [],
   "source": [
    "#!pip3 install traquitanas --upgrade\n"
   ]
  },
  {
   "cell_type": "code",
   "execution_count": 2,
   "id": "446fbf9a",
   "metadata": {},
   "outputs": [],
   "source": [
    "import shutil\n",
    "\n",
    "import functions\n",
    "from paths import driver_path, input_path, logs_path"
   ]
  },
  {
   "cell_type": "code",
   "execution_count": 3,
   "id": "53e2ef7c",
   "metadata": {},
   "outputs": [],
   "source": [
    "shutil.rmtree(input_path, ignore_errors=True)\n",
    "input_path.mkdir(exist_ok=True)"
   ]
  },
  {
   "cell_type": "markdown",
   "id": "3c0b4ecf",
   "metadata": {},
   "source": [
    "<br>\n",
    "\n",
    "# Run\n"
   ]
  },
  {
   "cell_type": "code",
   "execution_count": 4,
   "id": "f844fe4c",
   "metadata": {},
   "outputs": [
    {
     "name": "stdout",
     "output_type": "stream",
     "text": [
      "Geckodriver already in c:\\Users\\michelsilva\\Codes\\open_geodata\\br_incra\\scrapy\\driver\n"
     ]
    }
   ],
   "source": [
    "driver = functions.Driver(driver_path, logs_path, input_path)\n",
    "driver.go_page()\n",
    "ufs = driver.get_estados()\n"
   ]
  },
  {
   "cell_type": "markdown",
   "id": "574d8d23",
   "metadata": {},
   "source": [
    "<br>\n",
    "\n",
    "## Todos os Estados\n"
   ]
  },
  {
   "cell_type": "code",
   "execution_count": 5,
   "id": "54e2a592",
   "metadata": {},
   "outputs": [
    {
     "data": {
      "text/plain": [
       "['São Paulo']"
      ]
     },
     "execution_count": 5,
     "metadata": {},
     "output_type": "execute_result"
    }
   ],
   "source": [
    "ufs = ufs[24:25]\n",
    "ufs\n"
   ]
  },
  {
   "cell_type": "code",
   "execution_count": 6,
   "id": "9b9f22f4",
   "metadata": {},
   "outputs": [
    {
     "name": "stdout",
     "output_type": "stream",
     "text": [
      "Sigef de \"São Paulo\": início donwload...\n",
      "Waiting...\n",
      "Waiting...\n",
      "Waiting...\n",
      "Waiting...\n",
      "Waiting...\n",
      "Waiting...\n",
      "Waiting...\n",
      "Waiting...\n",
      "Waiting...\n",
      "Waiting...\n",
      "{'camada': 'Sigef Brasil',\n",
      " 'nome_arquivo': 'Sigef Brasil_SP.zip',\n",
      " 'processamento': 'Concluído',\n",
      " 'srid': '4674'}\n",
      "SNCI de \"São Paulo\": início donwload...\n",
      "{'camada': 'Imóvel certificado SNCI Brasil',\n",
      " 'nome_arquivo': 'Imóvel certificado SNCI Brasil_SP.zip',\n",
      " 'processamento': 'Concluído',\n",
      " 'srid': '4674'}\n",
      "Assentamento de \"São Paulo\": início donwload...\n",
      "{'camada': 'Assentamento Brasil',\n",
      " 'nome_arquivo': 'Assentamento Brasil_SP.zip',\n",
      " 'processamento': 'Concluído',\n",
      " 'srid': 'None'}\n",
      "Quilombolas de \"São Paulo\": início donwload...\n",
      "{'camada': 'Áreas de Quilombolas', 'srid': '4674', 'processamento': 'Concluído', 'nome_arquivo': 'Áreas de Quilombolas_SP.zip'}\n",
      "Fim!!\n"
     ]
    }
   ],
   "source": [
    "tempo = 60\n",
    "\n",
    "for estado in ufs:\n",
    "    driver.get_sigef(estado, t=tempo)\n",
    "    driver.get_snci(estado, t=tempo)\n",
    "    driver.get_assentamento(estado, t=tempo)\n",
    "    driver.get_quilombolas(estado, t=tempo)\n",
    "\n",
    "# Fim\n",
    "print('Fim!!')"
   ]
  },
  {
   "cell_type": "code",
   "execution_count": 7,
   "id": "4765b9bc",
   "metadata": {},
   "outputs": [],
   "source": [
    "# Fechar Driver\n",
    "driver.quit()\n"
   ]
  },
  {
   "cell_type": "code",
   "execution_count": null,
   "id": "369c740d-a522-4329-b1e7-81b13aa2a76b",
   "metadata": {},
   "outputs": [],
   "source": []
  }
 ],
 "metadata": {
  "kernelspec": {
   "display_name": "Python 3.10.6 ('pablocarreira-lastest')",
   "language": "python",
   "name": "python3"
  },
  "language_info": {
   "codemirror_mode": {
    "name": "ipython",
    "version": 3
   },
   "file_extension": ".py",
   "mimetype": "text/x-python",
   "name": "python",
   "nbconvert_exporter": "python",
   "pygments_lexer": "ipython3",
   "version": "3.10.6"
  },
  "vscode": {
   "interpreter": {
    "hash": "4d2082c677fdf35794c222228cc7f22d43df5b8d8a9da3c3f9d9c2f356a8965c"
   }
  }
 },
 "nbformat": 4,
 "nbformat_minor": 5
}
