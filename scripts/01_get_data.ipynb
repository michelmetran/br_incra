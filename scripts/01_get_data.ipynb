{
 "cells": [
  {
   "cell_type": "markdown",
   "id": "89fc1ae8",
   "metadata": {},
   "source": [
    "<br>\n",
    "\n",
    "# Introdução\n"
   ]
  },
  {
   "cell_type": "code",
   "execution_count": null,
   "id": "3cc2f6c0",
   "metadata": {},
   "outputs": [],
   "source": [
    "#!pip3 install traquitanas --upgrade\n"
   ]
  },
  {
   "cell_type": "code",
   "execution_count": null,
   "id": "446fbf9a",
   "metadata": {},
   "outputs": [],
   "source": [
    "import shutil\n",
    "\n",
    "import functions\n",
    "from paths import driver_path, input_path, logs_path"
   ]
  },
  {
   "cell_type": "code",
   "execution_count": null,
   "id": "53e2ef7c",
   "metadata": {},
   "outputs": [],
   "source": [
    "shutil.rmtree(input_path, ignore_errors=True)\n",
    "input_path.mkdir(exist_ok=True)"
   ]
  },
  {
   "cell_type": "markdown",
   "id": "3c0b4ecf",
   "metadata": {},
   "source": [
    "<br>\n",
    "\n",
    "# Run\n"
   ]
  },
  {
   "cell_type": "code",
   "execution_count": null,
   "id": "f844fe4c",
   "metadata": {},
   "outputs": [],
   "source": [
    "driver = functions.Driver(driver_path, logs_path, input_path)\n",
    "driver.go_page()\n",
    "ufs = driver.get_estados()\n"
   ]
  },
  {
   "cell_type": "markdown",
   "id": "574d8d23",
   "metadata": {},
   "source": [
    "<br>\n",
    "\n",
    "## Todos os Estados\n"
   ]
  },
  {
   "cell_type": "code",
   "execution_count": null,
   "id": "54e2a592",
   "metadata": {},
   "outputs": [],
   "source": [
    "ufs = ufs[24:25]\n",
    "ufs\n"
   ]
  },
  {
   "cell_type": "code",
   "execution_count": null,
   "id": "9b9f22f4",
   "metadata": {},
   "outputs": [],
   "source": [
    "tempo = 60\n",
    "\n",
    "for estado in ufs:\n",
    "    driver.get_sigef(estado, t=tempo)\n",
    "    driver.get_snci(estado, t=tempo)\n",
    "    driver.get_assentamento(estado, t=tempo)\n",
    "    driver.get_quilombolas(estado, t=tempo)\n",
    "\n",
    "# Fim\n",
    "print('Fim!!')"
   ]
  },
  {
   "cell_type": "code",
   "execution_count": null,
   "id": "4765b9bc",
   "metadata": {},
   "outputs": [],
   "source": [
    "# Fechar Driver\n",
    "driver.quit()\n"
   ]
  },
  {
   "cell_type": "code",
   "execution_count": null,
   "id": "369c740d-a522-4329-b1e7-81b13aa2a76b",
   "metadata": {},
   "outputs": [],
   "source": []
  }
 ],
 "metadata": {
  "kernelspec": {
   "display_name": "Python 3.10.6 ('pablocarreira-lastest')",
   "language": "python",
   "name": "python3"
  },
  "language_info": {
   "codemirror_mode": {
    "name": "ipython",
    "version": 3
   },
   "file_extension": ".py",
   "mimetype": "text/x-python",
   "name": "python",
   "nbconvert_exporter": "python",
   "pygments_lexer": "ipython3",
   "version": "3.10.6"
  },
  "vscode": {
   "interpreter": {
    "hash": "4d2082c677fdf35794c222228cc7f22d43df5b8d8a9da3c3f9d9c2f356a8965c"
   }
  }
 },
 "nbformat": 4,
 "nbformat_minor": 5
}
