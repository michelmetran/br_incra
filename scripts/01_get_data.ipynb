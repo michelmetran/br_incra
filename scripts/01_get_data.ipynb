{
 "cells": [
  {
   "cell_type": "markdown",
   "id": "89fc1ae8",
   "metadata": {},
   "source": [
    "<br>\n",
    "\n",
    "# INCRA"
   ]
  },
  {
   "cell_type": "code",
   "execution_count": null,
   "id": "446fbf9a",
   "metadata": {},
   "outputs": [],
   "source": [
    "import os\n",
    "import time\n",
    "import requests"
   ]
  },
  {
   "cell_type": "code",
   "execution_count": null,
   "id": "38d2b459",
   "metadata": {},
   "outputs": [],
   "source": [
    "from selenium import webdriver\n",
    "from selenium.webdriver.common.by import By\n",
    "from selenium.webdriver.support.ui import Select\n",
    "from selenium.webdriver.firefox.options import Options"
   ]
  },
  {
   "cell_type": "code",
   "execution_count": null,
   "id": "b334e1d4",
   "metadata": {},
   "outputs": [],
   "source": [
    "from paths import *"
   ]
  },
  {
   "cell_type": "markdown",
   "id": "3c0b4ecf",
   "metadata": {},
   "source": [
    "<br>\n",
    "\n",
    "# Run"
   ]
  },
  {
   "cell_type": "code",
   "execution_count": null,
   "id": "7088783c",
   "metadata": {},
   "outputs": [],
   "source": [
    "from driver import *"
   ]
  },
  {
   "cell_type": "code",
   "execution_count": null,
   "id": "47a7cc11",
   "metadata": {},
   "outputs": [],
   "source": [
    "# Get URL\n",
    "url = 'https://certificacao.incra.gov.br/csv_shp/export_shp.py'\n",
    "driver.get(url)"
   ]
  },
  {
   "cell_type": "code",
   "execution_count": null,
   "id": "4adc2946",
   "metadata": {},
   "outputs": [],
   "source": [
    "# Pega todas as opções de Estados\n",
    "ufs_xpath = driver.find_elements(By.XPATH, \"//*[@id='selectuf']/option\")\n",
    "\n",
    "# Monta uma lista com as opções de Estado\n",
    "ufs = []\n",
    "for i in ufs_xpath[1:]:\n",
    "    print(i.get_attribute('innerHTML'))\n",
    "    ufs.append(i.get_attribute('innerHTML'))\n",
    "\n",
    "# Results\n",
    "print(len(ufs))\n",
    "print(ufs)\n",
    "\n",
    "# Define o Estado\n",
    "estado = ufs[24]\n",
    "print(estado)\n",
    "\n",
    "# Fechar Driver\n",
    "#driver.quit()"
   ]
  },
  {
   "cell_type": "code",
   "execution_count": null,
   "id": "eefc7e64",
   "metadata": {},
   "outputs": [],
   "source": [
    "#get_sigef_estado(estado)"
   ]
  },
  {
   "cell_type": "markdown",
   "id": "574d8d23",
   "metadata": {},
   "source": [
    "<br>\n",
    "\n",
    "## Todos os Estados"
   ]
  },
  {
   "cell_type": "code",
   "execution_count": null,
   "id": "54e2a592",
   "metadata": {},
   "outputs": [],
   "source": [
    "ufs = ufs[24:25]\n",
    "ufs"
   ]
  },
  {
   "cell_type": "code",
   "execution_count": null,
   "id": "9b9f22f4",
   "metadata": {},
   "outputs": [],
   "source": [
    "tempo = 60\n",
    "\n",
    "for estado in ufs:\n",
    "    driver.get(url)\n",
    "    get_sigef_estado(estado, t=tempo)\n",
    "    get_snci_estado(estado, t=tempo)\n",
    "    get_assentamento_estado(estado, t=tempo)\n",
    "    get_quilombolas_estado(estado, t=tempo)"
   ]
  },
  {
   "cell_type": "code",
   "execution_count": null,
   "id": "4765b9bc",
   "metadata": {},
   "outputs": [],
   "source": [
    "# Fechar Driver\n",
    "driver.quit()"
   ]
  },
  {
   "cell_type": "code",
   "execution_count": null,
   "id": "369c740d-a522-4329-b1e7-81b13aa2a76b",
   "metadata": {},
   "outputs": [],
   "source": []
  }
 ],
 "metadata": {
  "kernelspec": {
   "display_name": "Python 3.9.13 ('pablocarreira-py39')",
   "language": "python",
   "name": "python3"
  },
  "language_info": {
   "codemirror_mode": {
    "name": "ipython",
    "version": 3
   },
   "file_extension": ".py",
   "mimetype": "text/x-python",
   "name": "python",
   "nbconvert_exporter": "python",
   "pygments_lexer": "ipython3",
   "version": "3.9.13"
  },
  "vscode": {
   "interpreter": {
    "hash": "099d8e07b24be7a4c6e750d71e0b54278a1e7485a4f6d8709d6a0d5aca75d1b5"
   }
  }
 },
 "nbformat": 4,
 "nbformat_minor": 5
}
