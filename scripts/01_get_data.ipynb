{
 "cells": [
  {
   "cell_type": "markdown",
   "id": "89fc1ae8",
   "metadata": {},
   "source": [
    "<br>\n",
    "\n",
    "# Introdução\n"
   ]
  },
  {
   "cell_type": "code",
   "execution_count": null,
   "id": "3cc2f6c0",
   "metadata": {},
   "outputs": [],
   "source": [
    "#!pip3 install traquitanas --upgrade\n"
   ]
  },
  {
   "cell_type": "code",
   "execution_count": null,
   "id": "446fbf9a",
   "metadata": {},
   "outputs": [],
   "source": [
    "import shutil\n",
    "\n",
    "import functions\n",
    "from paths import driver_path, input_path, logs_path"
   ]
  },
  {
   "cell_type": "code",
   "execution_count": null,
   "id": "53e2ef7c",
   "metadata": {},
   "outputs": [],
   "source": [
    "shutil.rmtree(input_path, ignore_errors=True)\n",
    "input_path.mkdir(exist_ok=True)"
   ]
  },
  {
   "cell_type": "markdown",
   "id": "3c0b4ecf",
   "metadata": {},
   "source": [
    "<br>\n",
    "\n",
    "# Run\n"
   ]
  },
  {
   "cell_type": "code",
   "execution_count": null,
   "id": "f844fe4c",
   "metadata": {},
   "outputs": [],
   "source": [
    "driver = functions.Pom(driver_path, logs_path, input_path)\n",
    "driver.go_page()\n",
    "ufs = driver.get_estados()\n"
   ]
  },
  {
   "cell_type": "markdown",
   "id": "574d8d23",
   "metadata": {},
   "source": [
    "<br>\n",
    "\n",
    "## Todos os Estados\n"
   ]
  },
  {
   "cell_type": "code",
   "execution_count": null,
   "id": "54e2a592",
   "metadata": {},
   "outputs": [],
   "source": [
    "ufs = ufs[24:25]\n",
    "ufs\n"
   ]
  },
  {
   "cell_type": "code",
   "execution_count": 17,
   "id": "9b9f22f4",
   "metadata": {},
   "outputs": [
    {
     "name": "stdout",
     "output_type": "stream",
     "text": [
      "\"São Paulo\" donwload ok!\n"
     ]
    }
   ],
   "source": [
    "tempo = 60\n",
    "\n",
    "for estado in ufs:\n",
    "    driver.get_sigef_estado(estado, t=tempo)\n",
    "    driver.get_snci_estado(estado, t=tempo)\n",
    "    driver.get_assentamento_estado(estado, t=tempo)\n",
    "    driver.get_quilombolas_estado(estado, t=tempo)\n"
   ]
  },
  {
   "cell_type": "code",
   "execution_count": 18,
   "id": "4765b9bc",
   "metadata": {},
   "outputs": [
    {
     "name": "stdout",
     "output_type": "stream",
     "text": [
      "Fim!!\n"
     ]
    }
   ],
   "source": [
    "# Fechar Driver\n",
    "driver.quit()\n",
    "print('Fim!!')\n"
   ]
  },
  {
   "cell_type": "code",
   "execution_count": null,
   "id": "369c740d-a522-4329-b1e7-81b13aa2a76b",
   "metadata": {},
   "outputs": [],
   "source": []
  }
 ],
 "metadata": {
  "kernelspec": {
   "display_name": "Python 3.10.8 ('pablocarreira-lastest')",
   "language": "python",
   "name": "python3"
  },
  "language_info": {
   "codemirror_mode": {
    "name": "ipython",
    "version": 3
   },
   "file_extension": ".py",
   "mimetype": "text/x-python",
   "name": "python",
   "nbconvert_exporter": "python",
   "pygments_lexer": "ipython3",
   "version": "3.10.8"
  },
  "vscode": {
   "interpreter": {
    "hash": "c2053567621b34e45395a474af86f96fb684d1aeb5d97dc4e3cca6b10d9c7c8b"
   }
  }
 },
 "nbformat": 4,
 "nbformat_minor": 5
}
